{
 "cells": [
  {
   "cell_type": "markdown",
   "metadata": {},
   "source": [
    "# SionludiMeasurement Examples\n",
    "\n",
    "In our experiment, we use a \"Sionludi\" dilution refrigerator.\n",
    "Its control software generates .xls files containing a log of the fridges status.\n",
    "\n",
    "\n",
    "The class Sionludi handles the data extraction from these files in a convenient and user friendly way. \n"
   ]
  },
  {
   "cell_type": "code",
   "execution_count": 4,
   "metadata": {},
   "outputs": [],
   "source": [
    "from SionludiMeasurement import Sionludi\n",
    "from datetime import datetime\n",
    "\n",
    "sion = Sionludi('Example-Data') # initialize the class with the directory where the data files are stored"
   ]
  },
  {
   "cell_type": "markdown",
   "metadata": {},
   "source": [
    "For each day, the control software generates a new file. The Sionludi class automatically finds the correct file and loads it when asked for a value.\n",
    "All the user needs to provide is a datetime timestamp for which the data should be loaded as well as the sensor name:"
   ]
  },
  {
   "cell_type": "code",
   "execution_count": 5,
   "metadata": {},
   "outputs": [
    {
     "data": {
      "text/plain": [
       "0.0595113"
      ]
     },
     "execution_count": 5,
     "metadata": {},
     "output_type": "execute_result"
    }
   ],
   "source": [
    "sion.get_value(datetime(2022,5,1,12),'T3@JT2') # 'T3@JT2' is our thermometer at the dilution stage"
   ]
  },
  {
   "cell_type": "markdown",
   "metadata": {},
   "source": [
    "Note that the first execution takes a few seconds because the rather large data file is being loaded and processed.\n",
    "Reading a second value from the same date is quicker, since the data is already in memory:"
   ]
  },
  {
   "cell_type": "code",
   "execution_count": 6,
   "metadata": {},
   "outputs": [
    {
     "data": {
      "text/plain": [
       "0.0595072"
      ]
     },
     "execution_count": 6,
     "metadata": {},
     "output_type": "execute_result"
    }
   ],
   "source": [
    "sion.get_value(datetime(2022,5,1,12,1),'T3@JT2') "
   ]
  },
  {
   "cell_type": "markdown",
   "metadata": {},
   "source": [
    "We can also load a list of all values in a specified time range.\n",
    "Here, we will do this over a range over two days, the Sionludi class takes care of loading both files."
   ]
  },
  {
   "cell_type": "code",
   "execution_count": 8,
   "metadata": {},
   "outputs": [
    {
     "data": {
      "text/plain": [
       "array([0.788489, 0.788483, 0.788515, 0.788492, 0.788489, 0.78843 ,\n",
       "       0.788421, 0.788444, 0.788458, 0.788441, 0.788439, 0.78846 ,\n",
       "       0.788464, 0.78852 , 0.788493, 0.788498, 0.78849 , 0.788518,\n",
       "       0.788519, 0.788517, 0.788499, 0.788515])"
      ]
     },
     "execution_count": 8,
     "metadata": {},
     "output_type": "execute_result"
    }
   ],
   "source": [
    "sion.get_values_range(datetime(2022,5,1,23,59),datetime(2022,5,2,0,1),'T3@JT2')\n"
   ]
  },
  {
   "cell_type": "markdown",
   "metadata": {},
   "source": [
    "Thanks to the \"thermometer\" functionality of the Nanonis Measurements, we can use the Sionludi class to automatically load the measurement temperature. For this, provide the following thermometer function to the Nanonis Measurements:"
   ]
  },
  {
   "cell_type": "code",
   "execution_count": 9,
   "metadata": {},
   "outputs": [],
   "source": [
    "sion = Sionludi('Example-Data')                         # adjust the path if needed\n",
    "thermometer = lambda ts: sion.get_value(ts,'T3@JT2')    # adjust the sensor name if needed"
   ]
  }
 ],
 "metadata": {
  "interpreter": {
   "hash": "ad2bdc8ecc057115af97d19610ffacc2b4e99fae6737bb82f5d7fb13d2f2c186"
  },
  "kernelspec": {
   "display_name": "Python 3.6.4 ('base')",
   "language": "python",
   "name": "python3"
  },
  "language_info": {
   "codemirror_mode": {
    "name": "ipython",
    "version": 3
   },
   "file_extension": ".py",
   "mimetype": "text/x-python",
   "name": "python",
   "nbconvert_exporter": "python",
   "pygments_lexer": "ipython3",
   "version": "3.6.4"
  },
  "orig_nbformat": 4
 },
 "nbformat": 4,
 "nbformat_minor": 2
}
